{
 "cells": [
  {
   "cell_type": "markdown",
   "metadata": {},
   "source": [
    "# Ejercicio 1"
   ]
  },
  {
   "cell_type": "markdown",
   "metadata": {},
   "source": [
    "## Resolución"
   ]
  },
  {
   "cell_type": "code",
   "execution_count": 1,
   "metadata": {},
   "outputs": [],
   "source": [
    "import numpy as np\n",
    "from interpolation import lagrange"
   ]
  },
  {
   "cell_type": "markdown",
   "metadata": {},
   "source": [
    "### Los datos del problema"
   ]
  },
  {
   "cell_type": "code",
   "execution_count": 2,
   "metadata": {},
   "outputs": [],
   "source": [
    "X = np.array([1960, 1970, 1990, 2000])\n",
    "Y = np.array([3039585530, 3707475887, 5281653820, 6079603571])\n",
    "\n",
    "estimaciones = {1980: 4452584592}"
   ]
  },
  {
   "cell_type": "markdown",
   "metadata": {},
   "source": [
    "### Función auxiliar\n",
    "\n",
    "Declaramos una función auxiliar para evitar repetición, siendo su argumento las posiciones de los datos considerados en la estimación (por ejemplo, para 1970 y 1990 serían las posiciones 1 y 2)"
   ]
  },
  {
   "cell_type": "code",
   "execution_count": 3,
   "metadata": {},
   "outputs": [],
   "source": [
    "def calcular_error_estimacion(slice):\n",
    "    P, _ = lagrange(X[slice], Y[slice])\n",
    "    aprox = P(1980)\n",
    "    real = estimaciones[1980]\n",
    "    err_abs = abs(real - aprox)\n",
    "    err_rel = err_abs/real\n",
    "    print(\"Usando las estimaciones de:\", X[slice])\n",
    "    print(f\"El valor aproximado es {aprox:.6f}, comparado con el valor estimado de {real:.6f} nos da un error de {err_abs:.6f} (aprox. {err_rel*100:.2f}%)\")"
   ]
  },
  {
   "cell_type": "markdown",
   "metadata": {},
   "source": [
    "### Letra a\n",
    "\n",
    "Usando los datos de 1970 y 1990."
   ]
  },
  {
   "cell_type": "code",
   "execution_count": 4,
   "metadata": {},
   "outputs": [
    {
     "name": "stdout",
     "output_type": "stream",
     "text": [
      "Usando las estimaciones de: [1970 1990]\n",
      "El valor aproximado es 4494564853.499939, comparado con el valor estimado de 4452584592.000000 nos da un error de 41980261.499939 (aprox. 0.94%)\n"
     ]
    }
   ],
   "source": [
    "calcular_error_estimacion([1,2])"
   ]
  },
  {
   "cell_type": "markdown",
   "metadata": {},
   "source": [
    "### Letra b\n",
    "\n",
    "Usando los datos de 1960, 1970 y 1990."
   ]
  },
  {
   "cell_type": "code",
   "execution_count": 5,
   "metadata": {},
   "outputs": [
    {
     "name": "stdout",
     "output_type": "stream",
     "text": [
      "Usando las estimaciones de: [1960 1970 1990]\n",
      "El valor aproximado es 4454831983.656250, comparado con el valor estimado de 4452584592.000000 nos da un error de 2247391.656250 (aprox. 0.05%)\n"
     ]
    }
   ],
   "source": [
    "calcular_error_estimacion([0,1,2])"
   ]
  },
  {
   "cell_type": "markdown",
   "metadata": {},
   "source": [
    "### Letra c\n",
    "\n",
    "Usando todos los datos"
   ]
  },
  {
   "cell_type": "code",
   "execution_count": 6,
   "metadata": {},
   "outputs": [
    {
     "name": "stdout",
     "output_type": "stream",
     "text": [
      "Usando las estimaciones de: [1960 1970 1990 2000]\n",
      "El valor aproximado es 4472888285.656250, comparado con el valor estimado de 4452584592.000000 nos da un error de 20303693.656250 (aprox. 0.46%)\n"
     ]
    }
   ],
   "source": [
    "calcular_error_estimacion([0,1,2,3])"
   ]
  },
  {
   "cell_type": "markdown",
   "metadata": {},
   "source": [
    "## Conclusiones\n",
    "\n",
    "- En este ejercicio, usamos la interpolación de Lagrange empleando diferentes valores para estimar la población en 1980.\n",
    "- En la primera aproximación usamos 2 valores lo que resultó en un error relativo de 0.94% comparándolo con el valor estimado.\n",
    "- Al aumentar a 3 los valores usados, el error relativo se redujo a 0.05%, lo cual representa una mejora significativa en la aproximación. Sin embargo, cuando aumentamos a 4 los valores usados el error relativo aumenta a 0.46% respecto a la iteración anterior.\n",
    "- Podemos concluir que aumentar los valores usados en la interpolación no siempre aumenta su exactitud."
   ]
  }
 ],
 "metadata": {
  "kernelspec": {
   "display_name": "Python 3",
   "language": "python",
   "name": "python3"
  },
  "language_info": {
   "codemirror_mode": {
    "name": "ipython",
    "version": 3
   },
   "file_extension": ".py",
   "mimetype": "text/x-python",
   "name": "python",
   "nbconvert_exporter": "python",
   "pygments_lexer": "ipython3",
   "version": "3.12.5"
  }
 },
 "nbformat": 4,
 "nbformat_minor": 2
}
