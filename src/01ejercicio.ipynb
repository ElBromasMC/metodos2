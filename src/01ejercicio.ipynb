{
 "cells": [
  {
   "cell_type": "markdown",
   "metadata": {},
   "source": [
    "# Resolución de problemas\n",
    "\n",
    "## Ejercicio 1\n",
    "\n",
    "$$\\frac{dT}{dt} = -k\\cdot(T-T_{amb})$$\n",
    "\n",
    "### Resolución\n",
    "\n",
    "$$\\begin{split}\n",
    "\\int\\frac{dT}{T-T_{amb}} &= \\int-k\\cdot dt \\\\\n",
    "\\ln{|T-T_{amb}|} &= -k\\cdot t + C_1 \\\\\n",
    "T-T_{amb} &= e^{-k\\cdot t + C_1} \\\\\n",
    "T(t) &= C_2\\cdot e^{-k\\cdot t} + T_{amb}\n",
    "\\end{split}$$"
   ]
  },
  {
   "cell_type": "markdown",
   "metadata": {},
   "source": [
    "### Código"
   ]
  },
  {
   "cell_type": "code",
   "execution_count": 1,
   "metadata": {},
   "outputs": [],
   "source": [
    "import sympy\n",
    "import numpy as np \n",
    "import matplotlib.pyplot as plt\n",
    "sympy.init_printing(use_latex='mathjax')"
   ]
  },
  {
   "cell_type": "markdown",
   "metadata": {},
   "source": [
    "**Datos**\n",
    "\n",
    "- ta = 21\n",
    "- t = 0 $\\rightarrow$ T(0) = 95\n",
    "- t = 5 $\\rightarrow$ T(5) = 80"
   ]
  },
  {
   "cell_type": "code",
   "execution_count": 2,
   "metadata": {},
   "outputs": [
    {
     "data": {
      "text/latex": [
       "$\\displaystyle y{\\left(t \\right)} = C_{1} e^{- k t} + ta$"
      ],
      "text/plain": [
       "           -k⋅t     \n",
       "y(t) = C₁⋅ℯ     + ta"
      ]
     },
     "execution_count": 2,
     "metadata": {},
     "output_type": "execute_result"
    }
   ],
   "source": [
    "# Definicion de VARIABLES\n",
    "# k: Constante\n",
    "# ta: Temperatura ambiente\n",
    "# t: tiempo\n",
    "k, ta, t = sympy.symbols('k ta t')\n",
    "\n",
    "# Definimos la funcion y(t)\n",
    "y = sympy.Function('y')(t)\n",
    "\n",
    "# Definimos nuestra EDO\n",
    "edo = sympy.Eq(y.diff(t), -k * (y - ta))\n",
    "\n",
    "# Resolvemos la EDO con datos iniciales\n",
    "solucion = sympy.dsolve(edo, y)\n",
    "\n",
    "solucion"
   ]
  },
  {
   "cell_type": "code",
   "execution_count": 3,
   "metadata": {},
   "outputs": [
    {
     "data": {
      "text/latex": [
       "$\\displaystyle y{\\left(t \\right)} = 21 + 74 e^{- k t}$"
      ],
      "text/plain": [
       "                -k⋅t\n",
       "y(t) = 21 + 74⋅ℯ    "
      ]
     },
     "execution_count": 3,
     "metadata": {},
     "output_type": "execute_result"
    }
   ],
   "source": [
    "# Resolvemos la EDO con datos iniciales\n",
    "solucion = sympy.dsolve(edo, y, ics={y.subs(t, 0): 95})\n",
    "\n",
    "solucion = solucion.subs(ta, 21)\n",
    "solucion"
   ]
  },
  {
   "cell_type": "code",
   "execution_count": 4,
   "metadata": {},
   "outputs": [
    {
     "data": {
      "text/latex": [
       "$\\displaystyle \\left[ \\log{\\left(\\frac{59^{\\frac{4}{5}} \\sqrt[5]{74}}{59} \\right)}\\right]$"
      ],
      "text/plain": [
       "⎡   ⎛  4/5 5 ____⎞⎤\n",
       "⎢   ⎜59   ⋅╲╱ 74 ⎟⎥\n",
       "⎢log⎜────────────⎟⎥\n",
       "⎣   ⎝     59     ⎠⎦"
      ]
     },
     "execution_count": 4,
     "metadata": {},
     "output_type": "execute_result"
    }
   ],
   "source": [
    "# Devolver la parte derecha de la ecuacion\n",
    "y_sol = solucion.rhs\n",
    "\n",
    "# Resolvemos para hallar K\n",
    "k_value = sympy.solve(y_sol.subs(t, 5) - 80, k)\n",
    "k_value = [i for i in k_value if i.is_real]\n",
    "k_value"
   ]
  },
  {
   "cell_type": "code",
   "execution_count": 5,
   "metadata": {},
   "outputs": [
    {
     "data": {
      "text/latex": [
       "$\\displaystyle y{\\left(t \\right)} = 21 + 74 e^{- 0.0453055298596901 t}$"
      ],
      "text/plain": [
       "                -0.0453055298596901⋅t\n",
       "y(t) = 21 + 74⋅ℯ                     "
      ]
     },
     "execution_count": 5,
     "metadata": {},
     "output_type": "execute_result"
    }
   ],
   "source": [
    "y_sol  = solucion.subs(k, float(k_value[0]))\n",
    "y_sol"
   ]
  },
  {
   "cell_type": "markdown",
   "metadata": {},
   "source": [
    "### Gráfico"
   ]
  },
  {
   "cell_type": "code",
   "execution_count": 6,
   "metadata": {},
   "outputs": [
    {
     "data": {
      "image/png": "[encoded data removed]",
      "text/plain": [
       "<Figure size 640x480 with 1 Axes>"
      ]
     },
     "metadata": {},
     "output_type": "display_data"
    }
   ],
   "source": [
    "x_vals = np.linspace(0,10,300)\n",
    "y_sol  = solucion.subs(k, float(k_value[0]))\n",
    "y_vals = [(y_sol.subs(t,i)).rhs for i in x_vals]\n",
    "\n",
    "plt.plot(x_vals,y_vals, label='y(t)')\n",
    "plt.xlabel('Tiempo')\n",
    "plt.ylabel('Temperatura')\n",
    "plt.title('Problema 1')\n",
    "plt.grid()\n",
    "plt.show()"
   ]
  }
 ],
 "metadata": {
  "kernelspec": {
   "display_name": ".venv",
   "language": "python",
   "name": "python3"
  },
  "language_info": {
   "codemirror_mode": {
    "name": "ipython",
    "version": 3
   },
   "file_extension": ".py",
   "mimetype": "text/x-python",
   "name": "python",
   "nbconvert_exporter": "python",
   "pygments_lexer": "ipython3",
   "version": "3.12.5"
  }
 },
 "nbformat": 4,
 "nbformat_minor": 2
}
