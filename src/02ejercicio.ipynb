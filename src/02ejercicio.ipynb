{
 "cells": [
  {
   "cell_type": "markdown",
   "metadata": {},
   "source": [
    "## Ejercicio 2\n",
    "\n",
    "$$\\frac{dN}{dt} = -k\\cdot N$$\n",
    "\n",
    "### Resolución\n",
    "\n",
    "$$\\begin{split}\n",
    "\\int\\frac{dN}{N} &= \\int-k\\cdot dt \\\\\n",
    "\\ln{|N|} &= -k\\cdot t + C_1 \\\\\n",
    "N &= e^{-k\\cdot t + C_1} \\\\\n",
    "N(t) &= C_2\\cdot e^{-k\\cdot t}\n",
    "\\end{split}$$"
   ]
  },
  {
   "cell_type": "markdown",
   "metadata": {},
   "source": [
    "### Código"
   ]
  },
  {
   "cell_type": "code",
   "execution_count": 1,
   "metadata": {},
   "outputs": [],
   "source": [
    "import sympy\n",
    "import numpy as np \n",
    "import matplotlib.pyplot as plt\n",
    "sympy.init_printing(use_latex='mathjax')"
   ]
  },
  {
   "cell_type": "markdown",
   "metadata": {},
   "source": [
    "**Datos**\n",
    "\n",
    "- t = 0 $\\rightarrow$ T(0) = 100\n",
    "- t = 5 $\\rightarrow$ T(5) = 45"
   ]
  },
  {
   "cell_type": "code",
   "execution_count": 2,
   "metadata": {},
   "outputs": [
    {
     "data": {
      "text/latex": [
       "$\\displaystyle y{\\left(t \\right)} = C_{1} e^{- k t}$"
      ],
      "text/plain": [
       "           -k⋅t\n",
       "y(t) = C₁⋅ℯ    "
      ]
     },
     "execution_count": 2,
     "metadata": {},
     "output_type": "execute_result"
    }
   ],
   "source": [
    "# Definicion de VARIABLES\n",
    "# k: Constante\n",
    "# t: tiempo\n",
    "k, t = sympy.symbols('k t')\n",
    "\n",
    "# Definimos la funcion y(t)\n",
    "N = sympy.Function('y')(t)\n",
    "\n",
    "# Definimos nuestra EDO\n",
    "edo = sympy.Eq(N.diff(t), -k * N)\n",
    "\n",
    "# Resolvemos la EDO con datos iniciales\n",
    "solucion = sympy.dsolve(edo, N)\n",
    "\n",
    "solucion"
   ]
  },
  {
   "cell_type": "code",
   "execution_count": 3,
   "metadata": {},
   "outputs": [
    {
     "data": {
      "text/latex": [
       "$\\displaystyle y{\\left(t \\right)} = 100 e^{- k t}$"
      ],
      "text/plain": [
       "            -k⋅t\n",
       "y(t) = 100⋅ℯ    "
      ]
     },
     "execution_count": 3,
     "metadata": {},
     "output_type": "execute_result"
    }
   ],
   "source": [
    "# Resolvemos la EDO con datos iniciales\n",
    "solucion = sympy.dsolve(edo, N, ics={N.subs(t, 0): 100})\n",
    "\n",
    "solucion"
   ]
  },
  {
   "cell_type": "code",
   "execution_count": 4,
   "metadata": {},
   "outputs": [
    {
     "data": {
      "text/latex": [
       "$\\displaystyle \\left[ \\log{\\left(\\frac{\\sqrt[5]{20} \\cdot 3^{\\frac{3}{5}}}{3} \\right)}\\right]$"
      ],
      "text/plain": [
       "⎡   ⎛5 ____  3/5⎞⎤\n",
       "⎢   ⎜╲╱ 20 ⋅3   ⎟⎥\n",
       "⎢log⎜───────────⎟⎥\n",
       "⎣   ⎝     3     ⎠⎦"
      ]
     },
     "execution_count": 4,
     "metadata": {},
     "output_type": "execute_result"
    }
   ],
   "source": [
    "# Devolver la parte derecha de la ecuacion\n",
    "y_sol = solucion.rhs\n",
    "\n",
    "# Resolvemos para hallar K\n",
    "k_value = sympy.solve(y_sol.subs(t, 5) - 45, k)\n",
    "k_value = [i for i in k_value if i.is_real]\n",
    "k_value"
   ]
  },
  {
   "cell_type": "code",
   "execution_count": 5,
   "metadata": {},
   "outputs": [
    {
     "data": {
      "text/latex": [
       "$\\displaystyle y{\\left(t \\right)} = 100 e^{- 0.159701539243554 t}$"
      ],
      "text/plain": [
       "            -0.159701539243554⋅t\n",
       "y(t) = 100⋅ℯ                    "
      ]
     },
     "execution_count": 5,
     "metadata": {},
     "output_type": "execute_result"
    }
   ],
   "source": [
    "y_sol  = solucion.subs(k, float(k_value[0]))\n",
    "y_sol"
   ]
  },
  {
   "cell_type": "markdown",
   "metadata": {},
   "source": [
    "### Gráfico"
   ]
  },
  {
   "cell_type": "code",
   "execution_count": 6,
   "metadata": {},
   "outputs": [
    {
     "data": {
      "image/png": "[encoded data removed]",
      "text/plain": [
       "<Figure size 640x480 with 1 Axes>"
      ]
     },
     "metadata": {},
     "output_type": "display_data"
    }
   ],
   "source": [
    "x_vals = np.linspace(0,50,300)\n",
    "y_sol = solucion.subs(k, float(k_value[0]))\n",
    "y_vals = [(y_sol.subs(t,i)).rhs for i in x_vals]\n",
    "plt.plot(x_vals,y_vals, label='y(t)')\n",
    "plt.xlabel('t')\n",
    "plt.ylabel('N')\n",
    "plt.title('Problema 2')\n",
    "plt.xlim(0,50)\n",
    "plt.ylim(0,100)\n",
    "plt.grid()\n",
    "plt.show()"
   ]
  }
 ],
 "metadata": {
  "kernelspec": {
   "display_name": ".venv",
   "language": "python",
   "name": "python3"
  },
  "language_info": {
   "codemirror_mode": {
    "name": "ipython",
    "version": 3
   },
   "file_extension": ".py",
   "mimetype": "text/x-python",
   "name": "python",
   "nbconvert_exporter": "python",
   "pygments_lexer": "ipython3",
   "version": "3.12.5"
  }
 },
 "nbformat": 4,
 "nbformat_minor": 2
}
