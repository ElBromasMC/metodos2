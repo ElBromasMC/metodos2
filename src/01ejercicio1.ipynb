{
 "cells": [
  {
   "cell_type": "markdown",
   "metadata": {},
   "source": [
    "# Códigos"
   ]
  },
  {
   "cell_type": "code",
   "execution_count": 28,
   "metadata": {},
   "outputs": [],
   "source": [
    "import numpy as np"
   ]
  },
  {
   "cell_type": "markdown",
   "metadata": {},
   "source": [
    "## Método del Trapecio"
   ]
  },
  {
   "cell_type": "code",
   "execution_count": 29,
   "metadata": {},
   "outputs": [],
   "source": [
    "def mod_trapezium_method(X, Y):\n",
    "    \"\"\"\n",
    "        X: Conjunto de puntos igualmente espaciados\n",
    "        Y: Imagenes de dicho conjunto\n",
    "        return:\n",
    "            integral: Aproximacion de la integral de f en X\n",
    "    \"\"\"\n",
    "    a = min(X)\n",
    "    b = max(X)\n",
    "    n = len(X) - 1\n",
    "    if n <= 0:\n",
    "        raise Exception(\"n debe ser positivo!\")\n",
    "    h = (b - a)/n\n",
    "    sum = Y[0] + Y[-1]\n",
    "    for i in range(1,n):\n",
    "        sum += 2*Y[i]\n",
    "    integral = (h/2)*sum\n",
    "    return integral"
   ]
  },
  {
   "cell_type": "markdown",
   "metadata": {},
   "source": [
    "## Método de Simpson"
   ]
  },
  {
   "cell_type": "markdown",
   "metadata": {},
   "source": [
    "### Método $\\frac{1}{3}$ de Simpson"
   ]
  },
  {
   "cell_type": "code",
   "execution_count": 30,
   "metadata": {},
   "outputs": [],
   "source": [
    "def mod_simpson_method(X, Y):\n",
    "    a = min(X)\n",
    "    b = max(X)\n",
    "    n = len(X) - 1\n",
    "    if n % 2 != 0 or n <= 0:\n",
    "        raise Exception(\"n debe ser par y positivo!\")\n",
    "    h = (b - a)/n\n",
    "    sum = Y[0] + Y[-1]\n",
    "    for i in range(2,n,2):\n",
    "        sum += 2*Y[i]\n",
    "    for i in range(1,n,2):\n",
    "        sum += 4*Y[i]\n",
    "    integral = (h/3)*sum\n",
    "    return integral"
   ]
  },
  {
   "cell_type": "markdown",
   "metadata": {},
   "source": [
    "### Método $\\frac{3}{8}$ de Simpson"
   ]
  },
  {
   "cell_type": "code",
   "execution_count": 31,
   "metadata": {},
   "outputs": [],
   "source": [
    "def mod_simpson_3_8_method(X, Y):\n",
    "    a = min(X)\n",
    "    b = max(X)\n",
    "    n = len(X) - 1\n",
    "    if n % 3 != 0 or n <= 0:\n",
    "        raise Exception(f\"n debe ser multiplo de 3 y positivo!\")\n",
    "    h = (b - a)/n\n",
    "    sum = Y[0] + Y[-1]\n",
    "    for i in range(1,n,3):\n",
    "        sum += 3*Y[i]\n",
    "    for i in range(2,n,3):\n",
    "        sum += 3*Y[i]\n",
    "    for i in range(3,n,3):\n",
    "        sum += 2*Y[i]\n",
    "    integral = (3*h/8)*sum\n",
    "    return integral\n"
   ]
  },
  {
   "cell_type": "markdown",
   "metadata": {},
   "source": [
    "### Método que combina $\\frac{1}{3}$ y $\\frac{3}{8}$ "
   ]
  },
  {
   "cell_type": "code",
   "execution_count": 32,
   "metadata": {},
   "outputs": [],
   "source": [
    "# Realiza el metodo 1/3 de Simpson y luego el metodo 3/8 de Simpson para los intervalos restantes\n",
    "def mod_combined_method(X, Y):\n",
    "    n = len(X) - 1\n",
    "    r = n % 2\n",
    "    if r == 0:\n",
    "        integral = mod_simpson_method(X, Y)\n",
    "        return integral\n",
    "    elif r == 1:\n",
    "        integral = mod_simpson_method(X[:-3], Y[:-3]) + mod_simpson_3_8_method(X[-4:], Y[-4:])\n",
    "        return integral"
   ]
  },
  {
   "cell_type": "markdown",
   "metadata": {},
   "source": [
    "# Ejercicio\n",
    "\n",
    "## Problema 1\n",
    "\n",
    "Se muestra el contorno bidimensional digitalizado de una jarra $(x, f(x))$ (medidas enmetros). Se proporciona en la siguiente tabla\n",
    "\n",
    "![tabla](./image.png)\n",
    "\n",
    "El área de la superficie generada al hacer girar la curva $y = f(x)$ alrededor del eje x es calculado con\n",
    "\n",
    "$$S=\\int_{a}^{b}2\\pi f(x)\\sqrt{1+(f'(x))^2}dx$$\n",
    "\n",
    "Escriba un programa de computadora para estimar el área de superficie de la jarra con las reglas trapezoidal y $\\frac{1}{3}$ de Simpson. \n",
    "Calcule el área de la superficie con ambas reglas y analice las exactitud de sus estimaciones. Sugerencia: Estime $f(x)$ usando fórmulas de diferencia finita de segundo orden."
   ]
  },
  {
   "cell_type": "markdown",
   "metadata": {},
   "source": [
    "**Puntos**"
   ]
  },
  {
   "cell_type": "code",
   "execution_count": 33,
   "metadata": {},
   "outputs": [],
   "source": [
    "X = np.linspace(0,0.25,26)\n",
    "Y = np.array([0, 0.0430,0.0741,0.0956, 0.1098, 0.1181, 0.1220,0.1225,0.1205,0.1167,0.1116,0.1056,0.0992,0.0925,0.0857,0.0790,0.0726,0.0664,0.0605,0.0550,0.0498,0.0450,0.0406,0.0365,0.0328,0.0294])\n"
   ]
  },
  {
   "cell_type": "markdown",
   "metadata": {},
   "source": [
    "**Hallando las derivadas de los puntos**\n",
    "\n",
    "Se uso centrales y para los extremos(progresivas y regresivas)."
   ]
  },
  {
   "cell_type": "code",
   "execution_count": 34,
   "metadata": {},
   "outputs": [
    {
     "data": {
      "text/plain": [
       "array([ 4.3  ,  3.705,  2.63 ,  1.785,  1.125,  0.61 ,  0.22 , -0.075,\n",
       "       -0.29 , -0.445, -0.555, -0.62 , -0.655, -0.675, -0.675, -0.655,\n",
       "       -0.63 , -0.605, -0.57 , -0.535, -0.5  , -0.46 , -0.425, -0.39 ,\n",
       "       -0.355, -0.34 ])"
      ]
     },
     "execution_count": 34,
     "metadata": {},
     "output_type": "execute_result"
    }
   ],
   "source": [
    "R1 = (Y[2:] - Y[:-2])/(X[2:] - X[:-2])\n",
    "R2 = np.append((Y[1] - Y[0])/(X[1] - X[0]), R1)\n",
    "D = np.append(R2, (Y[-1] - Y[-2])/(X[-1] - X[-2]))\n",
    "D"
   ]
  },
  {
   "cell_type": "markdown",
   "metadata": {},
   "source": [
    "**Hallando la función**\n",
    "\n",
    "$$F(x) = 2\\pi f(x)\\sqrt{1+(f'(x))^2} $$"
   ]
  },
  {
   "cell_type": "code",
   "execution_count": 35,
   "metadata": {},
   "outputs": [],
   "source": [
    "F = 2*np.pi*Y*np.sqrt(1+D**2)"
   ]
  },
  {
   "cell_type": "markdown",
   "metadata": {},
   "source": [
    "**Área con los siguientes metodos**"
   ]
  },
  {
   "cell_type": "code",
   "execution_count": 36,
   "metadata": {},
   "outputs": [
    {
     "name": "stdout",
     "output_type": "stream",
     "text": [
      "Método de Simpson (Combinado): 0.16389667634763597\n",
      "Método de Simpson: 0.1625992874434948\n"
     ]
    }
   ],
   "source": [
    "print(f\"Método de Simpson (Combinado): {mod_combined_method(X, F)}\")\n",
    "print(f\"Método de Simpson: {mod_trapezium_method(X, F)}\")"
   ]
  }
 ],
 "metadata": {
  "kernelspec": {
   "display_name": "env",
   "language": "python",
   "name": "python3"
  },
  "language_info": {
   "codemirror_mode": {
    "name": "ipython",
    "version": 3
   },
   "file_extension": ".py",
   "mimetype": "text/x-python",
   "name": "python",
   "nbconvert_exporter": "python",
   "pygments_lexer": "ipython3",
   "version": "3.10.12"
  }
 },
 "nbformat": 4,
 "nbformat_minor": 2
}
