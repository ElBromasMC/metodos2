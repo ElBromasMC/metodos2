{
 "cells": [
  {
   "cell_type": "markdown",
   "metadata": {},
   "source": [
    "# Código Extrapolación de Richardson"
   ]
  },
  {
   "cell_type": "code",
   "execution_count": 1,
   "metadata": {},
   "outputs": [],
   "source": [
    "import numpy as np"
   ]
  },
  {
   "cell_type": "code",
   "execution_count": 2,
   "metadata": {},
   "outputs": [],
   "source": [
    "\"\"\"\n",
    "f: Función lambda que representa la función cuya derivada se quiere aproximar\n",
    "x0: Es el punto donde se quiere evaluar la derivada\n",
    "h: Es el tamaño de la diferencia\n",
    "n: Denota que se va a aproximar hasta D_n\n",
    "\n",
    "return:\n",
    "    R: Tabla que contiene las aproximaciones de la derivada\n",
    "\"\"\"\n",
    "def central_extrapolation(f, x0, h, n):\n",
    "    d1 = lambda h : (f(x0+h)-f(x0-h))/(2*h)\n",
    "    R = np.zeros((n,n))\n",
    "    for i in range(n):\n",
    "        R[0,i] = d1(h/(2)**i)\n",
    "    \n",
    "    for i in range(1, n):\n",
    "        for j in range(n-i):\n",
    "            R[i,j] = R[i-1,j+1] + (R[i-1,j+1]-R[i-1,j])/(4**(i)-1)\n",
    "    return R"
   ]
  },
  {
   "cell_type": "markdown",
   "metadata": {},
   "source": [
    "# Ejercicios"
   ]
  },
  {
   "cell_type": "markdown",
   "metadata": {},
   "source": [
    "## Ejercicio 1 y 2\n",
    "\n",
    "**Aplique el proceso de extrapolación descrito para aproximación para $f'(x_0)$, para las funciones y los tamaños de paso siguientes.**\n",
    "\n",
    "### Tabla\n",
    "$$D_1(h) = \\frac{f(x_0+h)-f(x_0-h)}{2h}$$\n",
    "\n",
    "$$D_2(h) =  \\frac{4D_1(\\frac{h}{2})-D_1(h)}{3}$$\n",
    "\n",
    "$$D_3(h) =  \\frac{16D_2(\\frac{h}{2})-D_2(h)}{15}$$\n",
    "\n",
    "$$D_4(h) =  \\frac{64D_3(\\frac{h}{2})-D_3(h)}{63}$$\n",
    "\n",
    "### Tabla de aproximaciones\n",
    "\n",
    "||1|2|3|4|\n",
    "|:-------------:|:---------------:|:-------------:    |:-------------:    |:-------------:\n",
    "| $O(h^2)$      |$D_1(h)$         |$D_1(\\frac{h}{2})$ |$D_1(\\frac{h}{4})$ |$D_1(\\frac{h}{8})$|\n",
    "| $O(h^4)$      |$D_2(h)$         |$D_2(\\frac{h}{2})$ |$D_2(\\frac{h}{4})$ ||\n",
    "| $O(h^6)$      |$D_3(h)$         |$D_3(\\frac{h}{2})$ |                   ||\n",
    "| $O(h^8)$      |$D_4(h)$         |                   |                   ||\n"
   ]
  },
  {
   "cell_type": "markdown",
   "metadata": {},
   "source": [
    "a) $f(x)=\\ln x;\\quad x_0 = 1,\\quad h = 0.4$"
   ]
  },
  {
   "cell_type": "code",
   "execution_count": 3,
   "metadata": {},
   "outputs": [
    {
     "name": "stdout",
     "output_type": "stream",
     "text": [
      "1.059122325\t1.01366277\t1.003353477\t1.000834586\n",
      "0.998509585\t0.999917046\t0.999994955\t0.0\n",
      "1.000010877\t1.000000149\t0.0\t0.0\n",
      "0.999999979\t0.0\t0.0\t0.0\n",
      "\n",
      "\n",
      "D1(h) =  1.059122\n",
      "D2(h) =  0.998510\n",
      "D3(h) =  1.000011\n",
      "D4(h) =  1.000000\n"
     ]
    }
   ],
   "source": [
    "x0 = 1\n",
    "h = 0.4\n",
    "f  = lambda x:np.log(x)\n",
    "\n",
    "h = central_extrapolation(f,x0, h, 4)\n",
    "\n",
    "for i in h:\n",
    "    print(\"\\t\".join([str(n.round(9)) for n in i]))\n",
    "\n",
    "print(\"\\n\")\n",
    "for i in range(len(h)):\n",
    "    print(f\"D{i+1}(h) = {h[i][0]:9f}\")"
   ]
  },
  {
   "cell_type": "markdown",
   "metadata": {},
   "source": [
    "b) $f(x)=2^{x}\\cdot\\sin{x};\\quad x_0 = 1.05,\\quad h = 0.4$ "
   ]
  },
  {
   "cell_type": "code",
   "execution_count": 4,
   "metadata": {},
   "outputs": [
    {
     "name": "stdout",
     "output_type": "stream",
     "text": [
      "2.203165697\t2.257237243\t2.270674167\t2.274028266\n",
      "2.275261092\t2.275153142\t2.2751463\t0.0\n",
      "2.275145945\t2.275145843\t0.0\t0.0\n",
      "2.275145842\t0.0\t0.0\t0.0\n",
      "\n",
      "\n",
      "D1(h) =  2.203166\n",
      "D2(h) =  2.275261\n",
      "D3(h) =  2.275146\n",
      "D4(h) =  2.275146\n"
     ]
    }
   ],
   "source": [
    "x0 = 1.05\n",
    "h = 0.4\n",
    "f = lambda x: (2**x)*(np.sin(x))\n",
    "h = central_extrapolation(f,x0, h, 4)\n",
    "\n",
    "for i in h:\n",
    "    print(\"\\t\".join([str(n.round(9)) for n in i]))\n",
    "\n",
    "print(\"\\n\")\n",
    "for i in range(len(h)):\n",
    "    print(f\"D{i+1}(h) = {h[i][0]:9f}\")"
   ]
  },
  {
   "cell_type": "markdown",
   "metadata": {},
   "source": [
    "c) $f(x)=x+e^x;\\quad x_0 = 0,\\quad h = 0.4$"
   ]
  },
  {
   "cell_type": "code",
   "execution_count": 5,
   "metadata": {},
   "outputs": [
    {
     "name": "stdout",
     "output_type": "stream",
     "text": [
      "2.026880815\t2.006680013\t2.0016675\t2.000416719\n",
      "1.999946412\t1.999996663\t1.999999792\t0.0\n",
      "2.000000013\t2.0\t0.0\t0.0\n",
      "2.0\t0.0\t0.0\t0.0\n",
      "\n",
      "\n",
      "D1(h) =  2.026881\n",
      "D2(h) =  1.999946\n",
      "D3(h) =  2.000000\n",
      "D4(h) =  2.000000\n"
     ]
    }
   ],
   "source": [
    "x0 = 0\n",
    "h = 0.4\n",
    "f = lambda x: x + np.exp(x)\n",
    "h = central_extrapolation(f,x0, h, 4)\n",
    "\n",
    "for i in h:\n",
    "    print(\"\\t\".join([str(n.round(9)) for n in i]))\n",
    "\n",
    "print(\"\\n\")\n",
    "for i in range(len(h)):\n",
    "    print(f\"D{i+1}(h) = {h[i][0]:9f}\")"
   ]
  },
  {
   "cell_type": "markdown",
   "metadata": {},
   "source": [
    "d) $f(x)=x^3\\cdot\\cos{x};\\quad x_0 = 2.3,\\quad h = 0.4$"
   ]
  },
  {
   "cell_type": "code",
   "execution_count": 6,
   "metadata": {},
   "outputs": [
    {
     "name": "stdout",
     "output_type": "stream",
     "text": [
      "-19.47176104\t-19.606223046\t-19.636854136\t-19.644322999\n",
      "-19.651043714\t-19.647064499\t-19.64681262\t0.0\n",
      "-19.646799218\t-19.646795828\t0.0\t0.0\n",
      "-19.646795775\t0.0\t0.0\t0.0\n",
      "\n",
      "\n",
      "D1(h) = -19.471761\n",
      "D2(h) = -19.651044\n",
      "D3(h) = -19.646799\n",
      "D4(h) = -19.646796\n"
     ]
    }
   ],
   "source": [
    "x0 = 2.3\n",
    "h = 0.4\n",
    "f = lambda x: (x**3)*(np.cos(x))\n",
    "h = central_extrapolation(f,x0, h, 4)\n",
    "\n",
    "for i in h:\n",
    "    print(\"\\t\".join([str(n.round(9)) for n in i]))\n",
    "\n",
    "print(\"\\n\")\n",
    "for i in range(len(h)):\n",
    "    print(f\"D{i+1}(h) = {h[i][0]:9f}\")"
   ]
  }
 ],
 "metadata": {
  "kernelspec": {
   "display_name": ".venv",
   "language": "python",
   "name": "python3"
  },
  "language_info": {
   "codemirror_mode": {
    "name": "ipython",
    "version": 3
   },
   "file_extension": ".py",
   "mimetype": "text/x-python",
   "name": "python",
   "nbconvert_exporter": "python",
   "pygments_lexer": "ipython3",
   "version": "3.12.6"
  }
 },
 "nbformat": 4,
 "nbformat_minor": 2
}
