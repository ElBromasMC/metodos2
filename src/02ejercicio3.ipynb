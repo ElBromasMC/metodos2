{
 "cells": [
  {
   "cell_type": "markdown",
   "metadata": {},
   "source": [
    "## Ejercicio 3\n",
    "\n",
    "**Lo demostraremos con el polinomio de Taylor de grado 3**\n",
    "\n",
    "Supongamos que $f$ es de clase $C^4$\n",
    "\n",
    "$$\n",
    "\\begin{split}\n",
    "f(x_0 + h) &= f(x_0) + f'(x_0)*h + \\frac{h^2}{2}f''(x_0) + \\frac{h^3}{6}f'''(x_0) + O(h^4) \\\\\n",
    "f'(x_0)*h &= f(x_0 + h) - f(x_0) - \\frac{h^2}{2}f''(x_0) - \\frac{h^3}{6}f'''(x_0) + O(h^4) \\\\\n",
    "f'(x_0) &= \\frac{f(x_0 + h) - f(x_0)}{h} - \\frac{h}{2}f''(x_0) - \\frac{h^2}{6}f'''(x_0) + O(h^3)\n",
    "\\end{split}\n",
    "$$"
   ]
  }
 ],
 "metadata": {
  "language_info": {
   "name": "python"
  }
 },
 "nbformat": 4,
 "nbformat_minor": 2
}
