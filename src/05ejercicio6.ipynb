{
 "cells": [
  {
   "cell_type": "markdown",
   "metadata": {},
   "source": [
    "## Ejercicio 6\n",
    "\n",
    "|$x$|$1$|$2$|$3$|$4$|$5$|\n",
    "|---|---|---|---|---|---|\n",
    "|$f(x)$|$0.01$|$0.68$|$1.11$|$1.38$|$1.61$|"
   ]
  },
  {
   "cell_type": "code",
   "execution_count": 1,
   "metadata": {},
   "outputs": [],
   "source": [
    "import numpy as np\n",
    "\n",
    "\"\"\"\n",
    "x0: Es el punto donde se quiere evaluar la derivada\n",
    "h: Es el tamaño de la diferencia\n",
    "n: Denota que se va a aproximar hasta D_n\n",
    "return:\n",
    "  R: Tabla que contiene las aproximaciones de la derivada\n",
    "\"\"\"\n",
    "# funcion de la formula central de derivada de orden 2\n",
    "def second_derivative_central(f, x0, h):\n",
    "  return (f(x0+h)-2*f(x0)+f(x0-h))/(h**2)\n",
    "\n",
    "def central_extrapolation2(f, x0, h, n):\n",
    "    d2 = lambda h : (f(x0+h)-2*f(x0)+f(x0-h))/(h**2) #formula central de derivada de orden 2\n",
    "    R = np.zeros((n,n))\n",
    "    for i in range(n):\n",
    "        R[0,i] = d2(h/(2)**i)\n",
    "\n",
    "    for i in range(1, n):\n",
    "        for j in range(n-i):\n",
    "            R[i,j] = R[i-1,j+1] + (R[i-1,j+1]-R[i-1,j])/(4**(i)-1)\n",
    "    return R"
   ]
  },
  {
   "cell_type": "code",
   "execution_count": 2,
   "metadata": {},
   "outputs": [],
   "source": [
    "x_vals = [1, 2, 3, 4, 5]\n",
    "f_vals = [0.01, 0.68, 1.11, 1.38, 1.61]\n",
    "\n",
    "# Generamos correspondencia\n",
    "mapeo = dict(zip(x_vals, f_vals))\n",
    "\n",
    "# Definimos funcion paratene valor mapeado\n",
    "def f(x):\n",
    "    return mapeo.get(x, \"Valor no encontrado\")"
   ]
  },
  {
   "cell_type": "markdown",
   "metadata": {},
   "source": [
    "a) Aproxima $f''(3)$ usando la diferencia $h = 2$."
   ]
  },
  {
   "cell_type": "code",
   "execution_count": 3,
   "metadata": {},
   "outputs": [
    {
     "name": "stdout",
     "output_type": "stream",
     "text": [
      "f''(3) = -0.150000000\n"
     ]
    }
   ],
   "source": [
    "x0 = 3\n",
    "h = 2\n",
    "\n",
    "d2 = second_derivative_central(f, x0, h)\n",
    "print(f\"f''(3) = {d2:.9f}\")"
   ]
  },
  {
   "cell_type": "markdown",
   "metadata": {},
   "source": [
    "b) Aproxima $f''(3)$ usando la diferencia $h = 1$."
   ]
  },
  {
   "cell_type": "code",
   "execution_count": 4,
   "metadata": {},
   "outputs": [
    {
     "name": "stdout",
     "output_type": "stream",
     "text": [
      "f''(3) = -0.160000000\n"
     ]
    }
   ],
   "source": [
    "x0 = 3\n",
    "h = 1\n",
    "\n",
    "d2 = second_derivative_central(f, x0, h)\n",
    "print(f\"f''(3) = {d2:.9f}\")"
   ]
  },
  {
   "cell_type": "markdown",
   "metadata": {},
   "source": [
    "c) Utilice Extrapolación de Richardson"
   ]
  },
  {
   "cell_type": "code",
   "execution_count": 5,
   "metadata": {},
   "outputs": [
    {
     "name": "stdout",
     "output_type": "stream",
     "text": [
      "-0.15\t-0.16\n",
      "-0.163333333\t0.0\n",
      "\n",
      "\n",
      "D1(h) = -0.150000\n",
      "D2(h) = -0.163333\n"
     ]
    }
   ],
   "source": [
    "x0 = 3\n",
    "h = 2\n",
    "n = 2\n",
    "\n",
    "table = central_extrapolation2(f, x0, h, n)\n",
    "\n",
    "for i in table:\n",
    "    print(\"\\t\".join([str(n.round(9)) for n in i]))\n",
    "\n",
    "print(\"\\n\")\n",
    "for i in range(len(table)):\n",
    "    print(f\"D{i+1}(h) = {table[i][0]:9f}\")"
   ]
  }
 ],
 "metadata": {
  "kernelspec": {
   "display_name": ".venv",
   "language": "python",
   "name": "python3"
  },
  "language_info": {
   "codemirror_mode": {
    "name": "ipython",
    "version": 3
   },
   "file_extension": ".py",
   "mimetype": "text/x-python",
   "name": "python",
   "nbconvert_exporter": "python",
   "pygments_lexer": "ipython3",
   "version": "3.12.6"
  }
 },
 "nbformat": 4,
 "nbformat_minor": 2
}
