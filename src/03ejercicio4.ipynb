{
 "cells": [
  {
   "cell_type": "markdown",
   "metadata": {},
   "source": [
    "## Ejercicio 4\n",
    "\n",
    "**Suponga que $D(h)$ es una aproximación para $f'(x)$ para cada $h > 0$ y que**\n",
    "\n",
    "$$f'(x) = D(h) + K_1h+ K_2h^2+ K_3h^3+\\quad\\dotsi$$\n",
    "\n",
    "**para algunas constantes $K_1,K_2,K_3,\\dotsi$ . Use los valores de  $D(h), D(\\frac{h}{3}),$ y $D(\\frac{h}{9})$ para producir una aproximación de $O(h^3)$ para $f'(x)$**"
   ]
  },
  {
   "cell_type": "markdown",
   "metadata": {},
   "source": [
    "**Resolvemos**\n",
    "\n",
    "$$\n",
    "\\begin{split}\n",
    "f'(x) &= D(h) + K_1h+ K_2h^2+ K_3h^3+\\quad\\dotsi\\quad\\quad\\\\\n",
    "f'(x) &= D(\\frac{h}{3}) + K_1\\frac{h}{3}+ K_2\\frac{h^2}{9}+ K_3\\frac{h^3}{27}+\\quad\\dotsi\\quad\\quad \\\\\n",
    "f'(x) &= D(\\frac{h}{9}) + K_1\\frac{h}{9}+ K_2\\frac{h^2}{81}+ K_3\\frac{h^3}{729} +\\quad\\dotsi\\quad\\quad\n",
    "\\end{split}\n",
    "$$"
   ]
  },
  {
   "cell_type": "markdown",
   "metadata": {},
   "source": [
    "**Multiplicaremos por $\\frac{-1}{3}$ a (1) ; por 4 a (2) y por -9 a (3)**\n",
    "\n",
    "$$\n",
    "\\begin{split}\n",
    "\\frac{-1}{3}f'(x) &= \\frac{-1}{3}D(h) + \\frac{-h}{3}K_1+ \\frac{-h^2}{3}K_2+ \\frac{-h^3}{3}K_3+\\quad\\dotsi\\quad\\quad\\\\\n",
    "4f'(x) &= 4D(\\frac{h}{3}) + 4\\frac{h}{3}K_1+ 4\\frac{h^2}{9}K_2+ 4\\frac{h^3}{27}K_3+\\quad\\dotsi\\quad\\quad \\\\\n",
    "-9f'(x) &= -9D(\\frac{h}{9}) - K_1 h- K_2\\frac{h^2}{9}- K_3\\frac{h^3}{81} +\\quad\\dotsi\\quad\\quad\n",
    "\\end{split}\n",
    "$$\n",
    "\n",
    "**Sumamos y simplificamos**"
   ]
  },
  {
   "cell_type": "markdown",
   "metadata": {},
   "source": [
    "$$\\frac{-16}{3}f'(x) = \\frac{-1}{3}D(h) +4D(\\frac{h}{3})-9D(\\frac{h}{9}) - \\frac{16}{81}h^3 K_3$$"
   ]
  },
  {
   "cell_type": "markdown",
   "metadata": {},
   "source": [
    "$$f'(x) = \\frac{1}{16}D(h) -\\frac{3}{4}D(\\frac{h}{3})+\\frac{27}{16}D(\\frac{h}{9}) +\\frac{1}{27}h^3 K_3$$"
   ]
  }
 ],
 "metadata": {
  "kernelspec": {
   "display_name": ".venv",
   "language": "python",
   "name": "python3"
  },
  "language_info": {
   "name": "python",
   "version": "3.12.6"
  }
 },
 "nbformat": 4,
 "nbformat_minor": 2
}
