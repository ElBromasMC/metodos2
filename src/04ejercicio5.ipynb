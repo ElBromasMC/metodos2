{
 "cells": [
  {
   "cell_type": "markdown",
   "metadata": {},
   "source": [
    "## Ejercicio 5\n",
    "\n",
    "**Suponga que $D(h)$ es una aproximación para $f'(x)$ para cada $h > 0$ y que**\n",
    "\n",
    "$$f'(x) = D(h) + K_1h^2+ K_2h^4+ K_3h^6+\\quad\\dotsi$$\n",
    "\n",
    "**para algunas constantes $K_1,K_2,K_3,\\dotsi$ . Use los valores de  $D(h), D(\\frac{h}{3}),$ y $D(\\frac{h}{9})$ para producir una aproximación de $O(h^6)$ para M.**\n",
    "\n",
    "--> Utilize la exptrapolación para derivar una fórmula $O(h^3)$ para $f'(x)$"
   ]
  },
  {
   "cell_type": "markdown",
   "metadata": {},
   "source": [
    "**Resolvemos**\n",
    "\n",
    "$$\n",
    "\\begin{split}\n",
    "f'(x) &= D(h) + K_1h^2+ K_2h^4+ K_3h^6+\\quad\\dotsi\\quad\\quad\\\\\n",
    "f'(x) &= D(\\frac{h}{3}) + K_1\\frac{h^2}{9}+ K_2\\frac{h^4}{81}+ K_3\\frac{h^6}{729}+\\quad\\dotsi\\quad\\quad \\\\\n",
    "f'(x) &= D(\\frac{h}{9}) + K_1\\frac{h^2}{81}+ K_2\\frac{h^4}{6561}+ K_3\\frac{h^6}{531441} +\\quad\\dotsi\\quad\\quad\n",
    "\\end{split}\n",
    "$$"
   ]
  },
  {
   "cell_type": "markdown",
   "metadata": {},
   "source": [
    "**Multiplicaremos por $\\frac{3^6}{640}$ a (1) ; por $\\frac{-3^8 \\cdot 10}{640}$ a (2) y por $\\frac{3^{12}}{640}$ a (3)**"
   ]
  },
  {
   "cell_type": "markdown",
   "metadata": {},
   "source": [
    "$$\n",
    "\\begin{split}\n",
    "\\frac{3^6}{640}f'(x) &= \\frac{3^6}{640}D(h) + \\frac{3^6}{640}h^2K_1+ \\frac{3^4 \\cdot 9}{640}h^4K_2+ \\frac{3^6}{640}h^6K_3+\\quad\\dotsi\\quad\\quad \\\\\n",
    "\\frac{-3^8 \\cdot 10}{640}f'(x) &= \\frac{-3^8 \\cdot 10}{640}D(\\frac{h}{3}) + \\frac{-3^6 \\cdot 10}{640}h^2K_1+ \\frac{-3^4 \\cdot 10}{640}h^4K_2+ \\frac{-3^2 \\cdot 10}{640}h^6 K_3+\\quad\\dotsi\\quad\\quad \\\\\n",
    "\\frac{3^{12}}{640}f'(x) &= \\frac{3^{12}}{640}D(\\frac{h}{9}) + \\frac{3^{6}\\cdot 9}{640}h^2K_1+ \\frac{3^{4}}{640}h^4K_2+ \\frac{1}{640}h^6K_3 +\\quad\\dotsi\\quad\\quad\n",
    "\\end{split}\n",
    "$$"
   ]
  },
  {
   "cell_type": "markdown",
   "metadata": {},
   "source": [
    "**Sumamos y simplificamos**"
   ]
  },
  {
   "cell_type": "markdown",
   "metadata": {},
   "source": [
    "$$\n",
    "\\begin{split}\n",
    "\\left[\\frac{3^6}{640}(1-90+729)\\right]f'(x) &= \n",
    "\\frac{3^6}{640}D(h) - \n",
    "\\frac{3^8 \\cdot 10}{640}D(\\frac{h}{3}) +\n",
    "\\frac{3^{12}}{640}D(\\frac{h}{9}) + \\left[\\frac{1}{640}(3^6 - 90 + 1)\\right]h^6 K_3\\\\\n",
    "729f'(x) &= \n",
    "\\frac{3^6}{640}D(h) - \n",
    "\\frac{3^8}{64}D(\\frac{h}{3}) +\n",
    "\\frac{3^{12}}{640}D(\\frac{h}{9}) + h^6 K_3 \\\\\n",
    "f'(x) &= \n",
    "\\frac{1}{640}D(h) - \n",
    "\\frac{9}{64}D(\\frac{h}{3}) +\n",
    "\\frac{3^{6}}{640}D(\\frac{h}{9}) + \\frac{h^6}{729} K_3\n",
    "\\end{split}\n",
    "$$"
   ]
  }
 ],
 "metadata": {
  "kernelspec": {
   "display_name": ".venv",
   "language": "python",
   "name": "python3"
  },
  "language_info": {
   "name": "python",
   "version": "3.12.6"
  }
 },
 "nbformat": 4,
 "nbformat_minor": 2
}
