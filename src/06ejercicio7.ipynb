{
 "cells": [
  {
   "cell_type": "markdown",
   "metadata": {},
   "source": [
    "## Ejercicio 7\n",
    "\n",
    "**Calcule la derivada de $f(x) = \\sin x$ en $x = \\frac{\\pi}{4}$ usando el método de Richardson extrapolación. Comience con h = 1 y encuentre el número de filas en Richardson tabla necesaria para estimar la derivada con seis dígitos decimales significativos**\n",
    "\n",
    "$$\n",
    "\\begin{split}\n",
    "f(x) &= \\sin x \\\\\n",
    "f'(x) &= \\cos x \\\\\n",
    "f'(\\frac{\\pi}{4}) &= \\cos{\\frac{\\pi}{4}} = 0.707106781\n",
    "\\end{split}\n",
    "$$"
   ]
  },
  {
   "cell_type": "code",
   "execution_count": 3,
   "metadata": {},
   "outputs": [
    {
     "name": "stdout",
     "output_type": "stream",
     "text": [
      "Valor real con 6 cifras significativas: 0.707107\n",
      "\n",
      "Tabla de Extrapolación de Richardson:\n",
      "0.59500984\t 0.678010099\t 0.699764069\t 0.705266795\n",
      "0.705676852\t 0.707015393\t 0.707101037\t 0.0\n",
      "0.707104629\t 0.707106747\t 0.0\t 0.0\n",
      "0.707106781\t 0.0\t 0.0\t 0.0\n"
     ]
    }
   ],
   "source": [
    "import numpy as np\n",
    "from derivative import central_extrapolation\n",
    "\n",
    "f = lambda x: np.sin(x)\n",
    "x0 = np.pi / 4\n",
    "h = 1\n",
    "n = 4\n",
    "\n",
    "table = central_extrapolation(f, x0, h, n)\n",
    "valor = np.cos(np.pi / 4)\n",
    "print(f\"Valor real con 6 cifras significativas: {valor:.6f}\")\n",
    "print(\"\\nTabla de Extrapolación de Richardson:\")\n",
    "for i in table:\n",
    "    print(\"\\t \".join([str(n.round(9)) for n in i]))"
   ]
  }
 ],
 "metadata": {
  "kernelspec": {
   "display_name": ".venv",
   "language": "python",
   "name": "python3"
  },
  "language_info": {
   "codemirror_mode": {
    "name": "ipython",
    "version": 3
   },
   "file_extension": ".py",
   "mimetype": "text/x-python",
   "name": "python",
   "nbconvert_exporter": "python",
   "pygments_lexer": "ipython3",
   "version": "3.12.6"
  }
 },
 "nbformat": 4,
 "nbformat_minor": 2
}
