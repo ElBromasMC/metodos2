{
 "cells": [
  {
   "cell_type": "markdown",
   "metadata": {},
   "source": [
    "## Problema 2\n",
    "\n",
    "El volumen de un cuerpo tridimensional, obtenido al hacer girar $y = f(x)$ alrededor del eje x, es encontrado por\n",
    "\n",
    "$$V = \\pi\\int_{a}^{b}(f'(x))^2 dx$$\n",
    "\n",
    "Escriba un programa de computadora para estimar el volumen de la jarra, haciendo girar los datos discretos alrededor del eje x. \n",
    "Aplique las reglas trapezoidal y $\\frac{1}{3}$ de Simpson para estimar el volumen y discutir la precisión de sus soluciones"
   ]
  },
  {
   "cell_type": "markdown",
   "metadata": {},
   "source": [
    "**Puntos**"
   ]
  },
  {
   "cell_type": "code",
   "execution_count": 6,
   "metadata": {},
   "outputs": [],
   "source": [
    "import numpy as np\n",
    "from integration import *"
   ]
  },
  {
   "cell_type": "code",
   "execution_count": 7,
   "metadata": {},
   "outputs": [],
   "source": [
    "X = np.linspace(0,0.25,26)\n",
    "Y = np.array([0, 0.0430,0.0741,0.0956, 0.1098, 0.1181, 0.1220,0.1225,0.1205,0.1167,0.1116,0.1056,0.0992,0.0925,0.0857,0.0790,0.0726,0.0664,0.0605,0.0550,0.0498,0.0450,0.0406,0.0365,0.0328,0.0294])"
   ]
  },
  {
   "cell_type": "markdown",
   "metadata": {},
   "source": [
    "**Hallando las derivadas de los puntos**\n",
    "\n",
    "Se uso centrales y para los extremos (progresivas y regresivas)."
   ]
  },
  {
   "cell_type": "code",
   "execution_count": 8,
   "metadata": {},
   "outputs": [],
   "source": [
    "R1 = (Y[2:] - Y[:-2])/(X[2:] - X[:-2])\n",
    "R2 = np.append((Y[1] - Y[0])/(X[1] - X[0]), R1)\n",
    "D = np.append(R2, (Y[-1] - Y[-2])/(X[-1] - X[-2]))"
   ]
  },
  {
   "cell_type": "markdown",
   "metadata": {},
   "source": [
    "**Hallando los puntos de la función**\n",
    "\n",
    "$$F(x) = \\pi(f'(x))^2 $$"
   ]
  },
  {
   "cell_type": "code",
   "execution_count": 9,
   "metadata": {},
   "outputs": [],
   "source": [
    "F = np.pi*D**2"
   ]
  },
  {
   "cell_type": "markdown",
   "metadata": {},
   "source": [
    "**Volumen con los siguientes métodos**"
   ]
  },
  {
   "cell_type": "code",
   "execution_count": 10,
   "metadata": {},
   "outputs": [
    {
     "name": "stdout",
     "output_type": "stream",
     "text": [
      "Método de Simpson (Combinado): 1.250240255194433\n",
      "Método de Simpson: 1.2523315087041726\n"
     ]
    }
   ],
   "source": [
    "print(f\"Método de Simpson (Combinado): {mod_combined_method(X, F)}\")\n",
    "print(f\"Método de Simpson: {mod_trapezium_method(X, F)}\")"
   ]
  }
 ],
 "metadata": {
  "kernelspec": {
   "display_name": "env",
   "language": "python",
   "name": "python3"
  },
  "language_info": {
   "codemirror_mode": {
    "name": "ipython",
    "version": 3
   },
   "file_extension": ".py",
   "mimetype": "text/x-python",
   "name": "python",
   "nbconvert_exporter": "python",
   "pygments_lexer": "ipython3",
   "version": "3.10.12"
  }
 },
 "nbformat": 4,
 "nbformat_minor": 2
}
