{
  "cells": [
    {
      "cell_type": "markdown",
      "metadata": {
        "id": "OegDj3NUwN69"
      },
      "source": [
        "# Computacion Simbólica"
      ]
    },
    {
      "cell_type": "markdown",
      "metadata": {
        "id": "0CXKASXOb6qP"
      },
      "source": [
        "*   Consiste en utilizar computadoras para automatizar cálculos analíticos.\n",
        "*   Es una herramienta para verificar y depurar cálculos analíticos realizados manualmente.\n",
        "*   La computación simbólica es crucial en la computación científica, incluso en problemas que requieren soluciones numéricas.\n",
        "*   En Python, el módulo principal para la computación simbolica es SymPy, escrito completamente en Python y útil para una amplia gama de problemas analíticos y simbólicos."
      ]
    },
    {
      "cell_type": "markdown",
      "metadata": {
        "id": "2muBpgM4wTx_"
      },
      "source": [
        "## Importación de SymPy"
      ]
    },
    {
      "cell_type": "code",
      "execution_count": 8,
      "metadata": {
        "id": "Id5q8gQxSdPQ"
      },
      "outputs": [],
      "source": [
        "import sympy\n",
        "sympy.init_printing() # mejor visualización del resultado\n",
        "from sympy import I, pi, oo # constantes"
      ]
    },
    {
      "cell_type": "markdown",
      "metadata": {
        "id": "WbWUdGQkVpmn"
      },
      "source": [
        "## Símbolos"
      ]
    },
    {
      "cell_type": "code",
      "execution_count": 6,
      "metadata": {
        "colab": {
          "base_uri": "https://localhost:8080/",
          "height": 39
        },
        "id": "xkMlHDjRTHra",
        "outputId": "613a2933-4a06-44fa-b2b7-43bff7c62ae3"
      },
      "outputs": [
        {
          "data": {
            "image/png": "[encoded data removed]",
            "text/latex": [
              "$\\displaystyle \\left( x, \\  y, \\  z\\right)$"
            ],
            "text/plain": [
              "(x, y, z)"
            ]
          },
          "execution_count": 6,
          "metadata": {},
          "output_type": "execute_result"
        }
      ],
      "source": [
        "# Diferentes maneras de declarar un simbólo\n",
        "x = sympy.Symbol('x')\n",
        "y = sympy.symbols(\"y\")\n",
        "z = sympy.var(\"z\")\n",
        "x, y, z"
      ]
    },
    {
      "cell_type": "code",
      "execution_count": 10,
      "metadata": {
        "colab": {
          "base_uri": "https://localhost:8080/"
        },
        "id": "IgOMIzW-YJXY",
        "outputId": "986dd200-57d3-4086-d74b-53ed6ad9e332"
      },
      "outputs": [
        {
          "data": {
            "text/plain": [
              "True"
            ]
          },
          "execution_count": 10,
          "metadata": {},
          "output_type": "execute_result"
        }
      ],
      "source": [
        "y = sympy.Symbol(\"y\", real=True)\n",
        "y.is_real"
      ]
    },
    {
      "cell_type": "code",
      "execution_count": 9,
      "metadata": {
        "colab": {
          "base_uri": "https://localhost:8080/"
        },
        "id": "TA-kDb-SbI_5",
        "outputId": "677e8a19-6ed3-46b5-fe02-332a852d19bc"
      },
      "outputs": [
        {
          "data": {
            "text/plain": [
              "True"
            ]
          },
          "execution_count": 9,
          "metadata": {},
          "output_type": "execute_result"
        }
      ],
      "source": [
        "x.is_real is None"
      ]
    },
    {
      "cell_type": "code",
      "execution_count": 5,
      "metadata": {
        "colab": {
          "base_uri": "https://localhost:8080/"
        },
        "id": "Bx9TRS0JbcpQ",
        "outputId": "177efacd-c35d-4a14-9ce7-c9c2ce8e04e9"
      },
      "outputs": [
        {
          "data": {
            "text/plain": [
              "False"
            ]
          },
          "execution_count": 5,
          "metadata": {},
          "output_type": "execute_result"
        }
      ],
      "source": [
        "sympy.Symbol('z', imaginary=True).is_odd"
      ]
    },
    {
      "cell_type": "code",
      "execution_count": 7,
      "metadata": {
        "colab": {
          "base_uri": "https://localhost:8080/",
          "height": 39
        },
        "id": "KLB2lupQboqw",
        "outputId": "a4e0c9ce-0838-4aba-e46e-7b16157a4ce5"
      },
      "outputs": [
        {
          "data": {
            "image/png": "[encoded data removed]",
            "text/latex": [
              "$\\displaystyle \\sqrt{x^{2}}$"
            ],
            "text/plain": [
              "   ____\n",
              "  ╱  2 \n",
              "╲╱  x  "
            ]
          },
          "execution_count": 7,
          "metadata": {},
          "output_type": "execute_result"
        }
      ],
      "source": [
        "x = sympy.Symbol('x')\n",
        "y = sympy.Symbol('y', positive=True)\n",
        "sympy.sqrt(x ** 2)"
      ]
    },
    {
      "cell_type": "code",
      "execution_count": 11,
      "metadata": {
        "colab": {
          "base_uri": "https://localhost:8080/",
          "height": 38
        },
        "id": "BOR2DXHpcBD4",
        "outputId": "88e71096-a7fd-43e2-9c92-ce8067bfa474"
      },
      "outputs": [
        {
          "data": {
            "image/png": "[encoded data removed]",
            "text/latex": [
              "$\\displaystyle \\left|{y}\\right|$"
            ],
            "text/plain": [
              "│y│"
            ]
          },
          "execution_count": 11,
          "metadata": {},
          "output_type": "execute_result"
        }
      ],
      "source": [
        "sympy.sqrt(y ** 2)"
      ]
    },
    {
      "cell_type": "code",
      "execution_count": 12,
      "metadata": {
        "colab": {
          "base_uri": "https://localhost:8080/",
          "height": 39
        },
        "id": "z9RDWO5UchyW",
        "outputId": "c43e738e-d924-4f97-81a0-b8f66b6527af"
      },
      "outputs": [
        {
          "data": {
            "image/png": "[encoded data removed]",
            "text/latex": [
              "$\\displaystyle \\cos{\\left(\\pi n \\right)}$"
            ],
            "text/plain": [
              "cos(π⋅n)"
            ]
          },
          "execution_count": 12,
          "metadata": {},
          "output_type": "execute_result"
        }
      ],
      "source": [
        "n1 = sympy.Symbol('n')\n",
        "n2 = sympy.Symbol('n', integer=True)\n",
        "n3 = sympy.Symbol('n', odd=True)\n",
        "\n",
        "sympy.cos(n1 * pi)"
      ]
    },
    {
      "cell_type": "code",
      "execution_count": 15,
      "metadata": {
        "colab": {
          "base_uri": "https://localhost:8080/",
          "height": 37
        },
        "id": "mCkwls_rdKjx",
        "outputId": "4d652ffb-7e3b-4a4f-ba9a-600618c0c75b"
      },
      "outputs": [
        {
          "data": {
            "image/png": "[encoded data removed]",
            "text/latex": [
              "$\\displaystyle \\left(-1\\right)^{n}$"
            ],
            "text/plain": [
              "    n\n",
              "(-1) "
            ]
          },
          "execution_count": 15,
          "metadata": {},
          "output_type": "execute_result"
        }
      ],
      "source": [
        "sympy.cos(n2 * pi)"
      ]
    },
    {
      "cell_type": "code",
      "execution_count": 13,
      "metadata": {
        "colab": {
          "base_uri": "https://localhost:8080/",
          "height": 37
        },
        "id": "2HQojaeSdRDP",
        "outputId": "1a08e269-07f9-4de5-9564-8d71d58dc749"
      },
      "outputs": [
        {
          "data": {
            "image/png": "[encoded data removed]",
            "text/latex": [
              "$\\displaystyle -1$"
            ],
            "text/plain": [
              "-1"
            ]
          },
          "execution_count": 13,
          "metadata": {},
          "output_type": "execute_result"
        }
      ],
      "source": [
        "sympy.cos(n3 * pi)"
      ]
    },
    {
      "cell_type": "code",
      "execution_count": 14,
      "metadata": {
        "id": "8tyYfQg0fBQI"
      },
      "outputs": [],
      "source": [
        "a, b, c = sympy.symbols(\"a, b, c\", negative=True)\n",
        "d, e, f = sympy.symbols('d, e, f', positive=True)"
      ]
    },
    {
      "cell_type": "code",
      "execution_count": 16,
      "metadata": {
        "colab": {
          "base_uri": "https://localhost:8080/"
        },
        "id": "wRVfI2KviWhI",
        "outputId": "4bbf6c8e-4183-4976-acb6-e23a00f1dad9"
      },
      "outputs": [
        {
          "data": {
            "text/plain": [
              "False"
            ]
          },
          "execution_count": 16,
          "metadata": {},
          "output_type": "execute_result"
        }
      ],
      "source": [
        "d.is_negative"
      ]
    },
    {
      "cell_type": "markdown",
      "metadata": {
        "id": "7xsP9WI-iile"
      },
      "source": [
        "### Numbers"
      ]
    },
    {
      "cell_type": "code",
      "execution_count": 17,
      "metadata": {
        "colab": {
          "base_uri": "https://localhost:8080/"
        },
        "id": "RpSLNVn9ikd6",
        "outputId": "dc0b00cf-c61b-4e76-9785-fa2ceccd9165"
      },
      "outputs": [
        {
          "data": {
            "text/plain": [
              "sympy.core.numbers.Integer"
            ]
          },
          "execution_count": 17,
          "metadata": {},
          "output_type": "execute_result"
        }
      ],
      "source": [
        "i = sympy.Integer(19)\n",
        "type(i)"
      ]
    },
    {
      "cell_type": "code",
      "execution_count": 19,
      "metadata": {
        "colab": {
          "base_uri": "https://localhost:8080/"
        },
        "id": "iNVkFbgzsDmu",
        "outputId": "46a03747-25fe-4e70-c51b-fced8a9e44e1"
      },
      "outputs": [
        {
          "data": {
            "text/plain": [
              "(True, True, True)"
            ]
          },
          "execution_count": 19,
          "metadata": {},
          "output_type": "execute_result"
        }
      ],
      "source": [
        "i.is_Integer, i.is_real, i.is_odd"
      ]
    },
    {
      "cell_type": "code",
      "execution_count": 18,
      "metadata": {
        "colab": {
          "base_uri": "https://localhost:8080/"
        },
        "id": "7d2nGW4nsS_O",
        "outputId": "2cb6cffa-ec76-470d-bf74-c4288d87608e"
      },
      "outputs": [
        {
          "data": {
            "text/plain": [
              "sympy.core.numbers.Float"
            ]
          },
          "execution_count": 18,
          "metadata": {},
          "output_type": "execute_result"
        }
      ],
      "source": [
        "f = sympy.Float(2.3)\n",
        "type(f)"
      ]
    },
    {
      "cell_type": "code",
      "execution_count": 24,
      "metadata": {
        "colab": {
          "base_uri": "https://localhost:8080/"
        },
        "id": "ELMALPvXsa0_",
        "outputId": "e3f7beba-ac59-4a38-c4f5-c7e19ad1b9d2"
      },
      "outputs": [
        {
          "data": {
            "text/plain": [
              "(False, True, False)"
            ]
          },
          "execution_count": 24,
          "metadata": {},
          "output_type": "execute_result"
        }
      ],
      "source": [
        "f.is_Integer, f.is_real, f.is_odd"
      ]
    },
    {
      "cell_type": "code",
      "execution_count": 20,
      "metadata": {
        "colab": {
          "base_uri": "https://localhost:8080/"
        },
        "id": "B__z4q45s4Ph",
        "outputId": "562339bb-5fd5-40ee-920a-52b057ec2ecf"
      },
      "outputs": [
        {
          "data": {
            "text/plain": [
              "(sympy.core.numbers.Integer, sympy.core.numbers.Float)"
            ]
          },
          "execution_count": 20,
          "metadata": {},
          "output_type": "execute_result"
        }
      ],
      "source": [
        "g, h = sympy.sympify(19), sympy.sympify(2.3)\n",
        "type(g), type(h)"
      ]
    },
    {
      "cell_type": "markdown",
      "metadata": {
        "id": "zmwJv8P2wgyy"
      },
      "source": [
        "#### Integer"
      ]
    },
    {
      "cell_type": "code",
      "execution_count": 21,
      "metadata": {
        "colab": {
          "base_uri": "https://localhost:8080/"
        },
        "id": "WADq_zMwwjri",
        "outputId": "59ddcb51-68c8-41df-bd24-9a2197d9abbb"
      },
      "outputs": [
        {
          "data": {
            "text/plain": [
              "(True, False, None, True)"
            ]
          },
          "execution_count": 21,
          "metadata": {},
          "output_type": "execute_result"
        }
      ],
      "source": [
        "n = sympy.Symbol('n', integer=True)\n",
        "n.is_integer, n.is_Integer, n.is_positive, n.is_Symbol"
      ]
    },
    {
      "cell_type": "code",
      "execution_count": 22,
      "metadata": {
        "colab": {
          "base_uri": "https://localhost:8080/"
        },
        "id": "QMNhDRjhxQc6",
        "outputId": "52a54d83-0948-44c0-cb63-4f738ea48068"
      },
      "outputs": [
        {
          "data": {
            "text/plain": [
              "(True, True, True, False)"
            ]
          },
          "execution_count": 22,
          "metadata": {},
          "output_type": "execute_result"
        }
      ],
      "source": [
        "i = sympy.Integer(19)\n",
        "i.is_integer, i.is_Integer, i.is_positive, i.is_Symbol"
      ]
    },
    {
      "cell_type": "code",
      "execution_count": 25,
      "metadata": {
        "colab": {
          "base_uri": "https://localhost:8080/",
          "height": 37
        },
        "id": "JRyyShJJx59D",
        "outputId": "9d15842e-6dc7-4ba2-8449-4c42fec3b25e"
      },
      "outputs": [
        {
          "data": {
            "image/png": "[encoded data removed]",
            "text/latex": [
              "$\\displaystyle 8663234049605954426644038200675212212900743262211018069459689001$"
            ],
            "text/plain": [
              "8663234049605954426644038200675212212900743262211018069459689001"
            ]
          },
          "execution_count": 25,
          "metadata": {},
          "output_type": "execute_result"
        }
      ],
      "source": [
        "i ** 50 # Potencia"
      ]
    },
    {
      "cell_type": "code",
      "execution_count": 23,
      "metadata": {
        "colab": {
          "base_uri": "https://localhost:8080/",
          "height": 37
        },
        "id": "TqRjStLHye_z",
        "outputId": "71daa859-b5cd-4900-84ea-406ea28544bf"
      },
      "outputs": [
        {
          "data": {
            "image/png": "[encoded data removed]",
            "text/latex": [
              "$\\displaystyle 121645100408832000$"
            ],
            "text/plain": [
              "121645100408832000"
            ]
          },
          "execution_count": 23,
          "metadata": {},
          "output_type": "execute_result"
        }
      ],
      "source": [
        "sympy.factorial(19)"
      ]
    },
    {
      "cell_type": "markdown",
      "metadata": {
        "id": "qeIemJ0nyrWh"
      },
      "source": [
        "#### Float"
      ]
    },
    {
      "cell_type": "code",
      "execution_count": 26,
      "metadata": {
        "colab": {
          "base_uri": "https://localhost:8080/",
          "height": 35
        },
        "id": "f1G2vckgU8pJ",
        "outputId": "c7305ce1-d727-4c8d-cd9e-b7f690a273f8"
      },
      "outputs": [
        {
          "data": {
            "text/plain": [
              "'0.2999999999999999888977698'"
            ]
          },
          "execution_count": 26,
          "metadata": {},
          "output_type": "execute_result"
        }
      ],
      "source": [
        "\"%.25f\" % 0.3"
      ]
    },
    {
      "cell_type": "code",
      "execution_count": 27,
      "metadata": {
        "colab": {
          "base_uri": "https://localhost:8080/",
          "height": 37
        },
        "id": "4Qf08gRTyrDr",
        "outputId": "05f009ff-fed9-4f04-b411-92001e7194fb"
      },
      "outputs": [
        {
          "data": {
            "image/png": "[encoded data removed]",
            "text/latex": [
              "$\\displaystyle 0.2999999999999999888977698$"
            ],
            "text/plain": [
              "0.2999999999999999888977698"
            ]
          },
          "execution_count": 27,
          "metadata": {},
          "output_type": "execute_result"
        }
      ],
      "source": [
        "sympy.Float(0.3, 25)"
      ]
    },
    {
      "cell_type": "code",
      "execution_count": 28,
      "metadata": {
        "colab": {
          "base_uri": "https://localhost:8080/",
          "height": 37
        },
        "id": "yKToBiFmVNMW",
        "outputId": "164d9cf5-d89b-49ad-ea1e-e5d41b414d38"
      },
      "outputs": [
        {
          "data": {
            "image/png": "[encoded data removed]",
            "text/latex": [
              "$\\displaystyle 0.3$"
            ],
            "text/plain": [
              "0.3000000000000000000000000"
            ]
          },
          "execution_count": 28,
          "metadata": {},
          "output_type": "execute_result"
        }
      ],
      "source": [
        "sympy.Float('0.3', 25)"
      ]
    },
    {
      "cell_type": "markdown",
      "metadata": {
        "id": "w4BV7FI0VhPe"
      },
      "source": [
        "#### Rational"
      ]
    },
    {
      "cell_type": "code",
      "execution_count": 29,
      "metadata": {
        "colab": {
          "base_uri": "https://localhost:8080/",
          "height": 51
        },
        "id": "mYFyIbbwVi2e",
        "outputId": "ded37f79-769f-4ffb-fdf9-46741ee51a5f"
      },
      "outputs": [
        {
          "data": {
            "image/png": "[encoded data removed]",
            "text/latex": [
              "$\\displaystyle \\frac{11}{13}$"
            ],
            "text/plain": [
              "11\n",
              "──\n",
              "13"
            ]
          },
          "execution_count": 29,
          "metadata": {},
          "output_type": "execute_result"
        }
      ],
      "source": [
        "sympy.Rational(11,13)"
      ]
    },
    {
      "cell_type": "code",
      "execution_count": 32,
      "metadata": {
        "colab": {
          "base_uri": "https://localhost:8080/",
          "height": 51
        },
        "id": "GQx1-jopVoWc",
        "outputId": "bc29f1b0-fedb-44ee-ba89-a0a82b0efc95"
      },
      "outputs": [
        {
          "data": {
            "image/png": "[encoded data removed]",
            "text/latex": [
              "$\\displaystyle \\frac{8}{15}$"
            ],
            "text/plain": [
              "8/15"
            ]
          },
          "execution_count": 32,
          "metadata": {},
          "output_type": "execute_result"
        }
      ],
      "source": [
        "r1 = sympy.Rational(2, 3)\n",
        "r2 = sympy.Rational(4, 5)\n",
        "r1 * r2"
      ]
    },
    {
      "cell_type": "code",
      "execution_count": 33,
      "metadata": {
        "colab": {
          "base_uri": "https://localhost:8080/",
          "height": 51
        },
        "id": "TISPfZCpV0lA",
        "outputId": "e83dc45a-ad7d-41a8-d0bf-149988ea71bc"
      },
      "outputs": [
        {
          "data": {
            "image/png": "[encoded data removed]",
            "text/latex": [
              "$\\displaystyle \\frac{5}{6}$"
            ],
            "text/plain": [
              "5/6"
            ]
          },
          "execution_count": 33,
          "metadata": {},
          "output_type": "execute_result"
        }
      ],
      "source": [
        "r1 / r2"
      ]
    },
    {
      "cell_type": "code",
      "execution_count": null,
      "metadata": {
        "colab": {
          "base_uri": "https://localhost:8080/",
          "height": 51
        },
        "id": "MoM8B7Aafgrw",
        "outputId": "88b72d5c-8cf4-477c-8f8e-ec23cfd6160c"
      },
      "outputs": [
        {
          "data": {
            "text/latex": [
              "$\\displaystyle \\frac{22}{15}$"
            ],
            "text/plain": [
              "22\n",
              "──\n",
              "15"
            ]
          },
          "execution_count": 10,
          "metadata": {},
          "output_type": "execute_result"
        }
      ],
      "source": [
        "r1 + r2"
      ]
    },
    {
      "cell_type": "markdown",
      "metadata": {
        "id": "zBSLFp3lV9DI"
      },
      "source": [
        "####  Constants and Special Symbols"
      ]
    },
    {
      "cell_type": "code",
      "execution_count": null,
      "metadata": {
        "id": "TTwKlEgnWAch"
      },
      "outputs": [],
      "source": []
    },
    {
      "cell_type": "markdown",
      "metadata": {
        "id": "9G_YzfRulKjm"
      },
      "source": [
        "#### Functions"
      ]
    },
    {
      "cell_type": "code",
      "execution_count": null,
      "metadata": {
        "id": "xCbpcdgolOvO"
      },
      "outputs": [],
      "source": [
        "x, y, z = sympy.symbols(\"x, y, z\")"
      ]
    },
    {
      "cell_type": "code",
      "execution_count": null,
      "metadata": {
        "id": "wFr_m1W0lShu"
      },
      "outputs": [],
      "source": [
        "f = sympy.Function(\"f\")"
      ]
    },
    {
      "cell_type": "code",
      "execution_count": null,
      "metadata": {
        "colab": {
          "base_uri": "https://localhost:8080/",
          "height": 121
        },
        "id": "iX46SRcBlW40",
        "outputId": "fb9e6674-2d06-41d2-80a5-e54e47e680af"
      },
      "outputs": [
        {
          "data": {
            "text/html": [
              "<div style=\"max-width:800px; border: 1px solid var(--colab-border-color);\"><style>\n",
              "      pre.function-repr-contents {\n",
              "        overflow-x: auto;\n",
              "        padding: 8px 12px;\n",
              "        max-height: 500px;\n",
              "      }\n",
              "\n",
              "      pre.function-repr-contents.function-repr-contents-collapsed {\n",
              "        cursor: pointer;\n",
              "        max-height: 100px;\n",
              "      }\n",
              "    </style>\n",
              "    <pre style=\"white-space: initial; background:\n",
              "         var(--colab-secondary-surface-color); padding: 8px 12px;\n",
              "         border-bottom: 1px solid var(--colab-border-color);\"><b>sympy.core.function.UndefinedFunction</b><br/>def __init__(cls, *args, **kwargs)</pre><pre class=\"function-repr-contents function-repr-contents-collapsed\" style=\"\"><a class=\"filepath\" style=\"display:none\" href=\"#\">/usr/local/lib/python3.10/dist-packages/sympy/core/function.py</a>The (meta)class of undefined functions.</pre>\n",
              "      <script>\n",
              "      if (google.colab.kernel.accessAllowed && google.colab.files && google.colab.files.view) {\n",
              "        for (const element of document.querySelectorAll('.filepath')) {\n",
              "          element.style.display = 'block'\n",
              "          element.onclick = (event) => {\n",
              "            event.preventDefault();\n",
              "            event.stopPropagation();\n",
              "            google.colab.files.view(element.textContent, 871);\n",
              "          };\n",
              "        }\n",
              "      }\n",
              "      for (const element of document.querySelectorAll('.function-repr-contents')) {\n",
              "        element.onclick = (event) => {\n",
              "          event.preventDefault();\n",
              "          event.stopPropagation();\n",
              "          element.classList.toggle('function-repr-contents-collapsed');\n",
              "        };\n",
              "      }\n",
              "      </script>\n",
              "      </div>"
            ],
            "text/plain": [
              "sympy.core.function.UndefinedFunction"
            ]
          },
          "execution_count": 30,
          "metadata": {},
          "output_type": "execute_result"
        }
      ],
      "source": [
        "type(f)"
      ]
    },
    {
      "cell_type": "code",
      "execution_count": null,
      "metadata": {
        "colab": {
          "base_uri": "https://localhost:8080/",
          "height": 39
        },
        "id": "dBpKOHoulcJE",
        "outputId": "ec9a69ac-5825-4131-c160-128e78e37d85"
      },
      "outputs": [
        {
          "data": {
            "text/latex": [
              "$\\displaystyle f{\\left(x \\right)}$"
            ],
            "text/plain": [
              "f(x)"
            ]
          },
          "execution_count": 31,
          "metadata": {},
          "output_type": "execute_result"
        }
      ],
      "source": [
        "f(x)"
      ]
    },
    {
      "cell_type": "code",
      "execution_count": null,
      "metadata": {
        "id": "Gey9eKrXlex1"
      },
      "outputs": [],
      "source": [
        "g = sympy.Function(\"g\")(x, y, z)"
      ]
    },
    {
      "cell_type": "code",
      "execution_count": null,
      "metadata": {
        "colab": {
          "base_uri": "https://localhost:8080/",
          "height": 39
        },
        "id": "aV7GUfOglg93",
        "outputId": "98f82467-4554-4cad-8468-6863a37d3b9b"
      },
      "outputs": [
        {
          "data": {
            "text/latex": [
              "$\\displaystyle g{\\left(x,y,z \\right)}$"
            ],
            "text/plain": [
              "g(x, y, z)"
            ]
          },
          "execution_count": 34,
          "metadata": {},
          "output_type": "execute_result"
        }
      ],
      "source": [
        "g"
      ]
    },
    {
      "cell_type": "code",
      "execution_count": null,
      "metadata": {
        "colab": {
          "base_uri": "https://localhost:8080/",
          "height": 39
        },
        "id": "twqx4XOdliNk",
        "outputId": "87b9c680-e44b-4932-b3d5-8b1e0e5b775d"
      },
      "outputs": [
        {
          "data": {
            "text/latex": [
              "$\\displaystyle \\left\\{x, y, z\\right\\}$"
            ],
            "text/plain": [
              "{x, y, z}"
            ]
          },
          "execution_count": 35,
          "metadata": {},
          "output_type": "execute_result"
        }
      ],
      "source": [
        "g.free_symbols"
      ]
    },
    {
      "cell_type": "code",
      "execution_count": null,
      "metadata": {
        "colab": {
          "base_uri": "https://localhost:8080/"
        },
        "id": "qyc7QJymmAmu",
        "outputId": "e80675e0-51e0-486a-e9e3-eb7d784c8e03"
      },
      "outputs": [
        {
          "data": {
            "text/plain": [
              "sin"
            ]
          },
          "execution_count": 36,
          "metadata": {},
          "output_type": "execute_result"
        }
      ],
      "source": [
        "sympy.sin"
      ]
    },
    {
      "cell_type": "code",
      "execution_count": null,
      "metadata": {
        "colab": {
          "base_uri": "https://localhost:8080/",
          "height": 39
        },
        "id": "GqiAV--JmWl-",
        "outputId": "814d1265-c423-4fdc-de5e-9f754d112f77"
      },
      "outputs": [
        {
          "data": {
            "text/latex": [
              "$\\displaystyle \\sin{\\left(x \\right)}$"
            ],
            "text/plain": [
              "sin(x)"
            ]
          },
          "execution_count": 37,
          "metadata": {},
          "output_type": "execute_result"
        }
      ],
      "source": [
        "sympy.sin(x)"
      ]
    },
    {
      "cell_type": "code",
      "execution_count": null,
      "metadata": {
        "colab": {
          "base_uri": "https://localhost:8080/",
          "height": 37
        },
        "id": "wa4MuF3bbYup",
        "outputId": "52297819-0d9f-49de-b390-827fa25ab449"
      },
      "outputs": [
        {
          "data": {
            "text/latex": [
              "$\\displaystyle 0$"
            ],
            "text/plain": [
              "0"
            ]
          },
          "execution_count": 39,
          "metadata": {},
          "output_type": "execute_result"
        }
      ],
      "source": [
        "sympy.sin(pi)"
      ]
    },
    {
      "cell_type": "code",
      "execution_count": null,
      "metadata": {
        "colab": {
          "base_uri": "https://localhost:8080/",
          "height": 37
        },
        "id": "iVuaT_k3mZeV",
        "outputId": "09e698e5-76a1-4307-837d-ad986c7c520d"
      },
      "outputs": [
        {
          "data": {
            "text/latex": [
              "$\\displaystyle -1$"
            ],
            "text/plain": [
              "-1"
            ]
          },
          "execution_count": 38,
          "metadata": {},
          "output_type": "execute_result"
        }
      ],
      "source": [
        "sympy.sin(pi * 1.5)"
      ]
    },
    {
      "cell_type": "code",
      "execution_count": null,
      "metadata": {
        "id": "giLXdFGsoKGk"
      },
      "outputs": [],
      "source": [
        "n = sympy.Symbol(\"n\", integer=True)"
      ]
    },
    {
      "cell_type": "code",
      "execution_count": null,
      "metadata": {
        "colab": {
          "base_uri": "https://localhost:8080/",
          "height": 37
        },
        "id": "YmFhVijdoLm6",
        "outputId": "fe53374a-9e5e-469a-e5e6-ff5bc21ccaa8"
      },
      "outputs": [
        {
          "data": {
            "text/latex": [
              "$\\displaystyle 0$"
            ],
            "text/plain": [
              "0"
            ]
          },
          "execution_count": 41,
          "metadata": {},
          "output_type": "execute_result"
        }
      ],
      "source": [
        "sympy.sin(pi * n)"
      ]
    },
    {
      "cell_type": "code",
      "execution_count": null,
      "metadata": {
        "id": "17-zY7lVogvb"
      },
      "outputs": [],
      "source": [
        "h = sympy.Lambda(x, x**2)"
      ]
    },
    {
      "cell_type": "code",
      "execution_count": null,
      "metadata": {
        "colab": {
          "base_uri": "https://localhost:8080/",
          "height": 39
        },
        "id": "irSXhahxoiq0",
        "outputId": "4974e1ab-e71c-49b9-d1ac-c6241e9542ec"
      },
      "outputs": [
        {
          "data": {
            "text/latex": [
              "$\\displaystyle \\left( x \\mapsto x^{2} \\right)$"
            ],
            "text/plain": [
              "     2\n",
              "x ↦ x "
            ]
          },
          "execution_count": 43,
          "metadata": {},
          "output_type": "execute_result"
        }
      ],
      "source": [
        "h"
      ]
    },
    {
      "cell_type": "code",
      "execution_count": null,
      "metadata": {
        "colab": {
          "base_uri": "https://localhost:8080/",
          "height": 37
        },
        "id": "nwVn_Evcomhc",
        "outputId": "c1d96eea-76ab-4cd2-c3e1-544ed6a8b654"
      },
      "outputs": [
        {
          "data": {
            "text/latex": [
              "$\\displaystyle 25$"
            ],
            "text/plain": [
              "25"
            ]
          },
          "execution_count": 45,
          "metadata": {},
          "output_type": "execute_result"
        }
      ],
      "source": [
        "h(5)"
      ]
    },
    {
      "cell_type": "code",
      "execution_count": null,
      "metadata": {
        "colab": {
          "base_uri": "https://localhost:8080/",
          "height": 39
        },
        "id": "vSIvVpp2ooa4",
        "outputId": "41aa7047-479d-4cba-879d-2b237b76b9c1"
      },
      "outputs": [
        {
          "data": {
            "text/latex": [
              "$\\displaystyle \\left(x + 1\\right)^{2}$"
            ],
            "text/plain": [
              "       2\n",
              "(x + 1) "
            ]
          },
          "execution_count": 46,
          "metadata": {},
          "output_type": "execute_result"
        }
      ],
      "source": [
        "h(1 + x)"
      ]
    },
    {
      "cell_type": "markdown",
      "metadata": {
        "id": "pi9rZIvHaTB9"
      },
      "source": [
        "## Expresiones"
      ]
    },
    {
      "cell_type": "markdown",
      "metadata": {
        "id": "FfMR0-vJaUpW"
      },
      "source": [
        "## Manipuelación de Expresiones"
      ]
    },
    {
      "cell_type": "markdown",
      "metadata": {
        "id": "w8qlKy67adOn"
      },
      "source": [
        "### Simplificación"
      ]
    },
    {
      "cell_type": "markdown",
      "metadata": {
        "id": "HbiSKrOiaiSO"
      },
      "source": [
        "### Desarrollar"
      ]
    },
    {
      "cell_type": "markdown",
      "metadata": {
        "id": "tE9ia_PvaiPm"
      },
      "source": [
        "### Factorizar, Coleccionar y Combinar"
      ]
    },
    {
      "cell_type": "markdown",
      "metadata": {
        "id": "v5_-kdmhaiNH"
      },
      "source": [
        "### Separar, Juntar y Cancelar"
      ]
    },
    {
      "cell_type": "markdown",
      "metadata": {
        "id": "gomT6lF4bOwH"
      },
      "source": [
        "### Sustituciones"
      ]
    },
    {
      "cell_type": "markdown",
      "metadata": {
        "id": "o8a48kq1bTlX"
      },
      "source": [
        "## Evaluación Numérica"
      ]
    },
    {
      "cell_type": "markdown",
      "metadata": {
        "id": "iu25XwambYFu"
      },
      "source": [
        "## Cálculo"
      ]
    },
    {
      "cell_type": "markdown",
      "metadata": {
        "id": "_M_9e4TobaN9"
      },
      "source": [
        "### Derivadas"
      ]
    },
    {
      "cell_type": "markdown",
      "metadata": {
        "id": "P0HLag1ubaL3"
      },
      "source": [
        "### Integrales"
      ]
    },
    {
      "cell_type": "markdown",
      "metadata": {
        "id": "g2RZnOEQbaJX"
      },
      "source": [
        "### Series"
      ]
    },
    {
      "cell_type": "markdown",
      "metadata": {
        "id": "nbMjlgT4baG1"
      },
      "source": [
        "### Límites"
      ]
    },
    {
      "cell_type": "markdown",
      "metadata": {
        "id": "mx46Zs8ObZ_W"
      },
      "source": [
        "### Sumas y Productos"
      ]
    },
    {
      "cell_type": "markdown",
      "metadata": {
        "id": "p3fQF_03bl2L"
      },
      "source": [
        "## Ecuaciones"
      ]
    },
    {
      "cell_type": "markdown",
      "metadata": {
        "id": "hALto6zPbnrr"
      },
      "source": [
        "## Álgebra Lineal"
      ]
    }
  ],
  "metadata": {
    "colab": {
      "provenance": []
    },
    "kernelspec": {
      "display_name": "Python 3",
      "name": "python3"
    },
    "language_info": {
      "codemirror_mode": {
        "name": "ipython",
        "version": 3
      },
      "file_extension": ".py",
      "mimetype": "text/x-python",
      "name": "python",
      "nbconvert_exporter": "python",
      "pygments_lexer": "ipython3",
      "version": "3.12.5"
    }
  },
  "nbformat": 4,
  "nbformat_minor": 0
}
